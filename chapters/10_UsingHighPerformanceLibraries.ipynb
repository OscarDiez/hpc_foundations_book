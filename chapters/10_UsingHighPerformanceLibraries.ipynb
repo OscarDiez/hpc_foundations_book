{
  "nbformat": 4,
  "nbformat_minor": 0,
  "metadata": {
    "colab": {
      "provenance": []
    },
    "kernelspec": {
      "name": "python3",
      "display_name": "Python 3"
    },
    "language_info": {
      "name": "python"
    }
  },
  "cells": [
    {
      "cell_type": "markdown",
      "source": [
        "# Introduction to High-Performance Libraries in HPC\n",
        "\n",
        "High-performance libraries are essential tools in scientific computing for executing complex computations efficiently. In this notebook, we will explore three major libraries used in HPC:\n",
        "\n",
        "- **BLAS (Basic Linear Algebra Subprograms):** Optimized routines for vector and matrix operations.\n",
        "- **LAPACK (Linear Algebra Package):** Builds on BLAS, providing functions to solve systems of linear equations, linear least squares problems, eigenvalue problems, and singular value decomposition.\n",
        "- **FFTW (Fast Fourier Transform in the West):** An efficient library for computing discrete Fourier transforms (DFTs).\n",
        "\n",
        "These libraries offer highly optimized functions that can significantly improve the performance of computational tasks in HPC environments. We will demonstrate how to use these libraries for common tasks such as matrix multiplication and Fourier transforms.\n"
      ],
      "metadata": {
        "id": "bBN2V0zu7y5B"
      }
    },
    {
      "cell_type": "markdown",
      "source": [
        "## Example 1: Matrix Multiplication with BLAS in C\n",
        "\n",
        "This example demonstrates how to perform matrix multiplication using BLAS in C. We'll use `dgemm`, the standard double-precision matrix multiplication function provided by BLAS. Matrix multiplication is a key operation in many scientific computing applications.\n",
        "\n",
        "We'll compile and run this C code on an HPC system with BLAS installed, and compare the performance of matrix multiplication with and without BLAS.\n",
        "\n",
        "### Steps\n",
        "1. Write the C code to a file.\n",
        "2. Compile the code with BLAS linked.\n",
        "3. Run the compiled program to observe performance.\n"
      ],
      "metadata": {
        "id": "6AuqbZR89TNt"
      }
    },
    {
      "cell_type": "code",
      "source": [
        "!apt-get update\n",
        "!apt-get install -y libblas-dev liblapack-dev gfortran gcc\n"
      ],
      "metadata": {
        "colab": {
          "base_uri": "https://localhost:8080/"
        },
        "id": "CrLvQpeK9vyf",
        "outputId": "c995e104-d394-4018-b866-f17577b267d7"
      },
      "execution_count": 9,
      "outputs": [
        {
          "output_type": "stream",
          "name": "stdout",
          "text": [
            "\r0% [Working]\r            \rGet:1 http://security.ubuntu.com/ubuntu jammy-security InRelease [129 kB]\n",
            "Get:2 https://cloud.r-project.org/bin/linux/ubuntu jammy-cran40/ InRelease [3,626 B]\n",
            "Hit:3 https://developer.download.nvidia.com/compute/cuda/repos/ubuntu2204/x86_64  InRelease\n",
            "Hit:4 http://archive.ubuntu.com/ubuntu jammy InRelease\n",
            "Ign:5 https://r2u.stat.illinois.edu/ubuntu jammy InRelease\n",
            "Get:6 https://r2u.stat.illinois.edu/ubuntu jammy Release [5,713 B]\n",
            "Get:7 https://r2u.stat.illinois.edu/ubuntu jammy Release.gpg [793 B]\n",
            "Get:8 http://archive.ubuntu.com/ubuntu jammy-updates InRelease [128 kB]\n",
            "Hit:9 https://ppa.launchpadcontent.net/deadsnakes/ppa/ubuntu jammy InRelease\n",
            "Get:10 http://security.ubuntu.com/ubuntu jammy-security/universe amd64 Packages [1,153 kB]\n",
            "Hit:11 https://ppa.launchpadcontent.net/graphics-drivers/ppa/ubuntu jammy InRelease\n",
            "Get:12 http://security.ubuntu.com/ubuntu jammy-security/main amd64 Packages [2,308 kB]\n",
            "Hit:13 https://ppa.launchpadcontent.net/ubuntugis/ppa/ubuntu jammy InRelease\n",
            "Hit:14 http://archive.ubuntu.com/ubuntu jammy-backports InRelease\n",
            "Get:15 https://r2u.stat.illinois.edu/ubuntu jammy/main all Packages [8,346 kB]\n",
            "Get:16 https://r2u.stat.illinois.edu/ubuntu jammy/main amd64 Packages [2,589 kB]\n",
            "Get:17 http://archive.ubuntu.com/ubuntu jammy-updates/restricted amd64 Packages [3,186 kB]\n",
            "Get:18 http://archive.ubuntu.com/ubuntu jammy-updates/main amd64 Packages [2,590 kB]\n",
            "Get:19 http://archive.ubuntu.com/ubuntu jammy-updates/universe amd64 Packages [1,440 kB]\n",
            "Fetched 21.9 MB in 3s (8,519 kB/s)\n",
            "Reading package lists... Done\n",
            "W: Skipping acquire of configured file 'main/source/Sources' as repository 'https://r2u.stat.illinois.edu/ubuntu jammy InRelease' does not seem to provide it (sources.list entry misspelt?)\n",
            "Reading package lists... Done\n",
            "Building dependency tree... Done\n",
            "Reading state information... Done\n",
            "gcc is already the newest version (4:11.2.0-1ubuntu1).\n",
            "gcc set to manually installed.\n",
            "gfortran is already the newest version (4:11.2.0-1ubuntu1).\n",
            "liblapack-dev is already the newest version (3.10.0-2ubuntu1).\n",
            "Suggested packages:\n",
            "  liblapack-doc\n",
            "The following NEW packages will be installed:\n",
            "  libblas-dev\n",
            "0 upgraded, 1 newly installed, 0 to remove and 55 not upgraded.\n",
            "Need to get 164 kB of archives.\n",
            "After this operation, 1,084 kB of additional disk space will be used.\n",
            "Get:1 http://archive.ubuntu.com/ubuntu jammy/main amd64 libblas-dev amd64 3.10.0-2ubuntu1 [164 kB]\n",
            "Fetched 164 kB in 0s (335 kB/s)\n",
            "Selecting previously unselected package libblas-dev:amd64.\n",
            "(Reading database ... 123599 files and directories currently installed.)\n",
            "Preparing to unpack .../libblas-dev_3.10.0-2ubuntu1_amd64.deb ...\n",
            "Unpacking libblas-dev:amd64 (3.10.0-2ubuntu1) ...\n",
            "Setting up libblas-dev:amd64 (3.10.0-2ubuntu1) ...\n"
          ]
        }
      ]
    },
    {
      "cell_type": "code",
      "source": [
        "# Step 1: Writing the C program to the filesystem\n",
        "\n",
        "%%writefile blas_matrix_mult.c\n",
        "\n",
        "#include <stdio.h>\n",
        "#include <stdlib.h>\n",
        "#include <cblas.h>\n",
        "#include <time.h>\n",
        "\n",
        "void naive_matrix_mult(int N, double *A, double *B, double *C) {\n",
        "    for (int i = 0; i < N; ++i)\n",
        "        for (int j = 0; j < N; ++j)\n",
        "            for (int k = 0; k < N; ++k)\n",
        "                C[i * N + j] += A[i * N + k] * B[k * N + j];\n",
        "}\n",
        "\n",
        "int main() {\n",
        "    int N = 500;\n",
        "    double *A = (double *) malloc(N * N * sizeof(double));\n",
        "    double *B = (double *) malloc(N * N * sizeof(double));\n",
        "    double *C = (double *) malloc(N * N * sizeof(double));\n",
        "\n",
        "    srand(time(NULL));\n",
        "    for (int i = 0; i < N * N; ++i) {\n",
        "        A[i] = (double) rand() / RAND_MAX;\n",
        "        B[i] = (double) rand() / RAND_MAX;\n",
        "        C[i] = 0.0;\n",
        "    }\n",
        "\n",
        "    // Naive matrix multiplication\n",
        "    clock_t start = clock();\n",
        "    naive_matrix_mult(N, A, B, C);\n",
        "    clock_t end = clock();\n",
        "    printf(\"Naive matrix multiplication took %f seconds\\n\", (double)(end - start) / CLOCKS_PER_SEC);\n",
        "\n",
        "    // BLAS matrix multiplication\n",
        "    for (int i = 0; i < N * N; ++i) C[i] = 0.0;\n",
        "    start = clock();\n",
        "    cblas_dgemm(CblasRowMajor, CblasNoTrans, CblasNoTrans, N, N, N, 1.0, A, N, B, N, 0.0, C, N);\n",
        "    end = clock();\n",
        "    printf(\"BLAS matrix multiplication took %f seconds\\n\", (double)(end - start) / CLOCKS_PER_SEC);\n",
        "\n",
        "    free(A); free(B); free(C);\n",
        "    return 0;\n",
        "}\n",
        "\n"
      ],
      "metadata": {
        "colab": {
          "base_uri": "https://localhost:8080/"
        },
        "id": "GR1Ce8B59XYz",
        "outputId": "4222bbd4-9346-4c82-c4fd-27d5f80f4fb9"
      },
      "execution_count": 12,
      "outputs": [
        {
          "output_type": "stream",
          "name": "stdout",
          "text": [
            "Overwriting blas_matrix_mult.c\n"
          ]
        }
      ]
    },
    {
      "cell_type": "code",
      "source": [
        "#Compile an run the program\n",
        "!gcc -o blas_matrix_mult blas_matrix_mult.c -lcblas -lblas\n",
        "!./blas_matrix_mult"
      ],
      "metadata": {
        "colab": {
          "base_uri": "https://localhost:8080/"
        },
        "id": "rlWuVFNz9l4Q",
        "outputId": "54efc49a-613a-49d1-de10-b5c1226a01e3"
      },
      "execution_count": 14,
      "outputs": [
        {
          "output_type": "stream",
          "name": "stdout",
          "text": [
            "Naive matrix multiplication took 1.512428 seconds\n",
            "BLAS matrix multiplication took 0.046271 seconds\n"
          ]
        }
      ]
    },
    {
      "cell_type": "markdown",
      "source": [
        "## Explanation of the BLAS Matrix Multiplication Code\n",
        "\n",
        "This C program demonstrates matrix multiplication using both a naive algorithm and BLAS (`dgemm`). Here's a breakdown of the key parts:\n",
        "\n",
        "1. **Naive Matrix Multiplication:** This method manually computes the product of two matrices using triple loops. It is functional but slow for large matrices.\n",
        "\n",
        "2. **BLAS `dgemm`:** BLAS routines are optimized to utilize hardware capabilities. The function `cblas_dgemm` performs double-precision matrix multiplication, and its performance is significantly faster than the naive implementation.\n",
        "\n",
        "3. **Compilation and Linking:** We compile the program using `gcc` and link it with the BLAS and CBLAS libraries (`-lcblas -lblas`). This ensures that the BLAS functions are available during execution.\n"
      ],
      "metadata": {
        "id": "IWXlVxMa9caM"
      }
    },
    {
      "cell_type": "markdown",
      "source": [
        "## Matrix Multiplication using BLAS in C\n",
        "\n",
        "Matrix multiplication is a fundamental operation in many scientific computing applications, and BLAS (Basic Linear Algebra Subprograms) provides highly optimized routines for such operations. In this example, we will use the BLAS routine `cblas_dgemm` to perform matrix multiplication.\n",
        "\n",
        "### Overview of cblas_dgemm\n",
        "The function `cblas_dgemm` is a Level 3 BLAS routine that performs double-precision general matrix multiplication. Specifically, it computes:\n",
        "\n",
        "\\[\n",
        "C = \\alpha \\cdot A \\cdot B + \\beta \\cdot C\n",
        "\\]\n",
        "\n",
        "where `A`, `B`, and `C` are matrices, and `alpha` and `beta` are scalar coefficients. This operation is highly optimized for performance and is much faster than naive matrix multiplication implemented with loops.\n",
        "\n",
        "We will implement matrix multiplication for 3x3 matrices in **C** and compile it from within the Jupyter notebook or Google Colab environment. After compiling, we will execute the program and display the results.\n"
      ],
      "metadata": {
        "id": "rHjqdfP1CLVu"
      }
    },
    {
      "cell_type": "code",
      "source": [
        "# Step 1: Write the C program to a file\n",
        "code = \"\"\"\n",
        "#include <stdio.h>\n",
        "#include <stdlib.h>\n",
        "#include <cblas.h>\n",
        "\n",
        "int main()\n",
        "{\n",
        "    double *A, *B, *C;\n",
        "    int m = 3; // square matrix, number of rows and columns\n",
        "    int i, j;\n",
        "\n",
        "    // Allocate memory for matrices\n",
        "    A = (double *) malloc(m * m * sizeof(double));\n",
        "    B = (double *) malloc(m * m * sizeof(double));\n",
        "    C = (double *) malloc(m * m * sizeof(double));\n",
        "\n",
        "    // Initialize the matrices\n",
        "    for (i = 0; i < m; i++) {\n",
        "        for (j = 0; j < m; j++) {\n",
        "            A[i * m + j] = i * m + j;     // Arbitrary initialization for matrix A\n",
        "            B[i * m + j] = 3.14 * (i * m + j); // Arbitrary initialization for matrix B\n",
        "            C[i * m + j] = 0.0;           // Initialize result matrix C to 0\n",
        "        }\n",
        "    }\n",
        "\n",
        "    // Define alpha and beta parameters for the BLAS routine\n",
        "    double alpha = 1.0;\n",
        "    double beta = 0.0;\n",
        "\n",
        "    // Call cblas_dgemm to perform matrix multiplication C = alpha * A * B + beta * C\n",
        "    cblas_dgemm(CblasRowMajor, CblasNoTrans, CblasNoTrans,\n",
        "                m, m, m, alpha, A, m, B, m, beta, C, m);\n",
        "\n",
        "    // Print the result matrix C\n",
        "    printf(\"Result of matrix multiplication C = A * B:\\\\n\");\n",
        "    for (i = 0; i < m; i++) {\n",
        "        for (j = 0; j < m; j++) {\n",
        "            printf(\"%f \", C[i * m + j]);\n",
        "        }\n",
        "        printf(\"\\\\n\");\n",
        "    }\n",
        "\n",
        "    // Free allocated memory\n",
        "    free(A);\n",
        "    free(B);\n",
        "    free(C);\n",
        "\n",
        "    return 0;\n",
        "}\n",
        "\"\"\"\n",
        "\n",
        "# Write the code to a file\n",
        "with open('blas_matrix_mult.c', 'w') as f:\n",
        "    f.write(code)\n",
        "\n",
        "\n",
        "# Step 1.5: Install necessary tools (Colab/Jupyter only)\n",
        "!apt-get update\n",
        "!apt-get install -y gcc libblas-dev libatlas-base-dev\n",
        "\n",
        "# Step 2: Compile the C code\n",
        "!gcc -o blas_matrix_mult blas_matrix_mult.c -lcblas -lblas\n",
        "\n",
        "# Step 3: Run the compiled program\n",
        "!./blas_matrix_mult\n"
      ],
      "metadata": {
        "colab": {
          "base_uri": "https://localhost:8080/"
        },
        "id": "PH4Y3r7VCc1l",
        "outputId": "7fb33cff-52c7-462d-b4c9-60f02c59b412"
      },
      "execution_count": 63,
      "outputs": [
        {
          "output_type": "stream",
          "name": "stdout",
          "text": [
            "\r0% [Working]\r            \rHit:1 http://archive.ubuntu.com/ubuntu jammy InRelease\n",
            "\r0% [Connecting to security.ubuntu.com (185.125.190.81)] [Waiting for headers] [Connecting to r2u.sta\r                                                                                                    \rGet:2 http://archive.ubuntu.com/ubuntu jammy-updates InRelease [128 kB]\n",
            "\r                                                                                                    \rHit:3 https://cloud.r-project.org/bin/linux/ubuntu jammy-cran40/ InRelease\n",
            "\r0% [2 InRelease 15.6 kB/128 kB 12%] [Connecting to security.ubuntu.com (185.125.190.81)] [Connecting\r0% [Waiting for headers] [Waiting for headers] [Connected to r2u.stat.illinois.edu (192.17.190.167)]\r                                                                                                    \rHit:4 http://archive.ubuntu.com/ubuntu jammy-backports InRelease\n",
            "\r0% [Waiting for headers] [Waiting for headers] [Waiting for headers] [Connected to ppa.launchpadcont\r                                                                                                    \rHit:5 https://developer.download.nvidia.com/compute/cuda/repos/ubuntu2204/x86_64  InRelease\n",
            "\r0% [Waiting for headers] [Waiting for headers] [Connected to ppa.launchpadcontent.net (185.125.190.8\r                                                                                                    \rGet:6 http://security.ubuntu.com/ubuntu jammy-security InRelease [129 kB]\n",
            "\r0% [6 InRelease 14.2 kB/129 kB 11%] [Waiting for headers] [Connected to ppa.launchpadcontent.net (18\r                                                                                                    \rIgn:7 https://r2u.stat.illinois.edu/ubuntu jammy InRelease\n",
            "Hit:8 https://r2u.stat.illinois.edu/ubuntu jammy Release\n",
            "Hit:9 https://ppa.launchpadcontent.net/deadsnakes/ppa/ubuntu jammy InRelease\n",
            "Hit:10 https://ppa.launchpadcontent.net/graphics-drivers/ppa/ubuntu jammy InRelease\n",
            "Hit:11 https://ppa.launchpadcontent.net/ubuntugis/ppa/ubuntu jammy InRelease\n",
            "Fetched 257 kB in 1s (191 kB/s)\n",
            "Reading package lists... Done\n",
            "W: Skipping acquire of configured file 'main/source/Sources' as repository 'https://r2u.stat.illinois.edu/ubuntu jammy InRelease' does not seem to provide it (sources.list entry misspelt?)\n",
            "Reading package lists... Done\n",
            "Building dependency tree... Done\n",
            "Reading state information... Done\n",
            "gcc is already the newest version (4:11.2.0-1ubuntu1).\n",
            "libblas-dev is already the newest version (3.10.0-2ubuntu1).\n",
            "libatlas-base-dev is already the newest version (3.10.3-12ubuntu1).\n",
            "0 upgraded, 0 newly installed, 0 to remove and 55 not upgraded.\n",
            "Result of matrix multiplication C = A * B:\n",
            "47.100000 56.520000 65.940000 \n",
            "131.880000 169.560000 207.240000 \n",
            "216.660000 282.600000 348.540000 \n"
          ]
        }
      ]
    },
    {
      "cell_type": "markdown",
      "source": [
        "## Explanation of the Matrix Multiplication Code\n",
        "\n",
        "This program performs matrix multiplication using BLAS and demonstrates how to use the `cblas_dgemm` function in C.\n",
        "\n",
        "### Key Parts of the Code:\n",
        "\n",
        "1. **Memory Allocation**:\n",
        "   - The program allocates memory for three matrices `A`, `B`, and `C`, each of size 3x3 using `malloc`.\n",
        "   \n",
        "2. **Matrix Initialization**:\n",
        "   - Matrix `A` is initialized with integers (0 to 8), and matrix `B` is initialized with values multiplied by `3.14`. These values are arbitrary and are used to demonstrate matrix multiplication.\n",
        "   - The result matrix `C` is initialized with zeros since this is where the result of the matrix multiplication will be stored.\n",
        "\n",
        "3. **BLAS Routine**:\n",
        "   - The program uses the `cblas_dgemm` function to perform the matrix multiplication: \\(C = \\alpha \\cdot A \\cdot B + \\beta \\cdot C\\), where \\(\\alpha = 1.0\\) and \\(\\beta = 0.0\\) in this case. This means \\(C = A \\cdot B\\), and the current values of `C` (which are zero) do not contribute to the result.\n",
        "   - `CblasRowMajor` indicates that matrices are stored in row-major order.\n",
        "   - `CblasNoTrans` means no transposition is applied to matrices `A` or `B`.\n",
        "\n",
        "4. **Result Output**:\n",
        "   - The resulting matrix `C` is printed row by row. After matrix multiplication, the result is a 3x3 matrix containing the product of `A` and `B`.\n",
        "\n",
        "5. **Memory Deallocation**:\n",
        "   - After the matrix multiplication is done, the dynamically allocated memory for `A`, `B`, and `C` is freed to prevent memory leaks.\n",
        "\n",
        "### Expected Output:\n",
        "The program will output the result of the matrix multiplication, which will look like this:\n",
        "\n",
        "\\[\n",
        "\\begin{bmatrix}\n",
        "47.10 & 56.52 & 65.94 \\\\\n",
        "131.88 & 169.56 & 207.24 \\\\\n",
        "216.66 & 282.60 & 348.54 \\\\\n",
        "\\end{bmatrix}\n",
        "\\]\n",
        "\n",
        "This result matches the computation \\(C = A \\cdot B\\) where `A` and `B` are the initialized matrices. This is a simple demonstration of how BLAS routines can significantly simplify and optimize matrix operations.\n"
      ],
      "metadata": {
        "id": "gRbO18FgCcb1"
      }
    },
    {
      "cell_type": "markdown",
      "source": [
        "## Example 2: Solving Linear Systems with LAPACK in C\n",
        "\n",
        "LAPACK provides routines to solve systems of linear equations. We will use the `dgesv` function to solve a system of equations \\(Ax = b\\), where \\(A\\) is a matrix and \\(b\\) is a vector. LAPACK's `dgesv` uses LU decomposition to efficiently solve the system.\n",
        "\n",
        "### Steps\n",
        "1. Write the C code to a file.\n",
        "2. Compile the code with LAPACK linked.\n",
        "3. Run the compiled program to solve the system.\n"
      ],
      "metadata": {
        "id": "NtAuFjEu-IJA"
      }
    },
    {
      "cell_type": "code",
      "source": [
        "!apt-get update\n",
        "!apt-get install -y libblas-dev liblapack-dev liblapacke-dev gfortran gcc\n"
      ],
      "metadata": {
        "colab": {
          "base_uri": "https://localhost:8080/"
        },
        "id": "DzjNaQdX-iqZ",
        "outputId": "7a28485d-0aec-4c3b-bebc-cdfbb81965a7"
      },
      "execution_count": 18,
      "outputs": [
        {
          "output_type": "stream",
          "name": "stdout",
          "text": [
            "\r0% [Working]\r            \rHit:1 https://cloud.r-project.org/bin/linux/ubuntu jammy-cran40/ InRelease\n",
            "\r0% [Waiting for headers] [Waiting for headers] [Connected to r2u.stat.illinois.edu (192.17.190.167)]\r                                                                                                    \rHit:2 https://developer.download.nvidia.com/compute/cuda/repos/ubuntu2204/x86_64  InRelease\n",
            "\r0% [Waiting for headers] [Waiting for headers] [Waiting for headers] [Connected to ppa.launchpadcont\r                                                                                                    \rHit:3 http://security.ubuntu.com/ubuntu jammy-security InRelease\n",
            "\r0% [Waiting for headers] [Waiting for headers] [Connected to ppa.launchpadcontent.net (185.125.190.8\r                                                                                                    \rHit:4 http://archive.ubuntu.com/ubuntu jammy InRelease\n",
            "Ign:5 https://r2u.stat.illinois.edu/ubuntu jammy InRelease\n",
            "Hit:6 https://r2u.stat.illinois.edu/ubuntu jammy Release\n",
            "Hit:7 http://archive.ubuntu.com/ubuntu jammy-updates InRelease\n",
            "Hit:8 http://archive.ubuntu.com/ubuntu jammy-backports InRelease\n",
            "Hit:9 https://ppa.launchpadcontent.net/deadsnakes/ppa/ubuntu jammy InRelease\n",
            "Hit:10 https://ppa.launchpadcontent.net/graphics-drivers/ppa/ubuntu jammy InRelease\n",
            "Hit:11 https://ppa.launchpadcontent.net/ubuntugis/ppa/ubuntu jammy InRelease\n",
            "Reading package lists... Done\n",
            "W: Skipping acquire of configured file 'main/source/Sources' as repository 'https://r2u.stat.illinois.edu/ubuntu jammy InRelease' does not seem to provide it (sources.list entry misspelt?)\n",
            "Reading package lists... Done\n",
            "Building dependency tree... Done\n",
            "Reading state information... Done\n",
            "gcc is already the newest version (4:11.2.0-1ubuntu1).\n",
            "gfortran is already the newest version (4:11.2.0-1ubuntu1).\n",
            "libblas-dev is already the newest version (3.10.0-2ubuntu1).\n",
            "liblapack-dev is already the newest version (3.10.0-2ubuntu1).\n",
            "The following additional packages will be installed:\n",
            "  liblapacke libtmglib-dev libtmglib3\n",
            "Suggested packages:\n",
            "  liblapack-doc\n",
            "The following NEW packages will be installed:\n",
            "  liblapacke liblapacke-dev libtmglib-dev libtmglib3\n",
            "0 upgraded, 4 newly installed, 0 to remove and 55 not upgraded.\n",
            "Need to get 1,071 kB of archives.\n",
            "After this operation, 12.3 MB of additional disk space will be used.\n",
            "Get:1 http://archive.ubuntu.com/ubuntu jammy/main amd64 libtmglib3 amd64 3.10.0-2ubuntu1 [144 kB]\n",
            "Get:2 http://archive.ubuntu.com/ubuntu jammy/main amd64 liblapacke amd64 3.10.0-2ubuntu1 [435 kB]\n",
            "Get:3 http://archive.ubuntu.com/ubuntu jammy/main amd64 libtmglib-dev amd64 3.10.0-2ubuntu1 [134 kB]\n",
            "Get:4 http://archive.ubuntu.com/ubuntu jammy/main amd64 liblapacke-dev amd64 3.10.0-2ubuntu1 [358 kB]\n",
            "Fetched 1,071 kB in 1s (1,362 kB/s)\n",
            "Selecting previously unselected package libtmglib3:amd64.\n",
            "(Reading database ... 123609 files and directories currently installed.)\n",
            "Preparing to unpack .../libtmglib3_3.10.0-2ubuntu1_amd64.deb ...\n",
            "Unpacking libtmglib3:amd64 (3.10.0-2ubuntu1) ...\n",
            "Selecting previously unselected package liblapacke:amd64.\n",
            "Preparing to unpack .../liblapacke_3.10.0-2ubuntu1_amd64.deb ...\n",
            "Unpacking liblapacke:amd64 (3.10.0-2ubuntu1) ...\n",
            "Selecting previously unselected package libtmglib-dev:amd64.\n",
            "Preparing to unpack .../libtmglib-dev_3.10.0-2ubuntu1_amd64.deb ...\n",
            "Unpacking libtmglib-dev:amd64 (3.10.0-2ubuntu1) ...\n",
            "Selecting previously unselected package liblapacke-dev:amd64.\n",
            "Preparing to unpack .../liblapacke-dev_3.10.0-2ubuntu1_amd64.deb ...\n",
            "Unpacking liblapacke-dev:amd64 (3.10.0-2ubuntu1) ...\n",
            "Setting up libtmglib3:amd64 (3.10.0-2ubuntu1) ...\n",
            "Setting up liblapacke:amd64 (3.10.0-2ubuntu1) ...\n",
            "Setting up libtmglib-dev:amd64 (3.10.0-2ubuntu1) ...\n",
            "Setting up liblapacke-dev:amd64 (3.10.0-2ubuntu1) ...\n",
            "Processing triggers for libc-bin (2.35-0ubuntu3.4) ...\n",
            "/sbin/ldconfig.real: /usr/local/lib/libur_loader.so.0 is not a symbolic link\n",
            "\n",
            "/sbin/ldconfig.real: /usr/local/lib/libtbbbind_2_0.so.3 is not a symbolic link\n",
            "\n",
            "/sbin/ldconfig.real: /usr/local/lib/libtbbbind.so.3 is not a symbolic link\n",
            "\n",
            "/sbin/ldconfig.real: /usr/local/lib/libtbbbind_2_5.so.3 is not a symbolic link\n",
            "\n",
            "/sbin/ldconfig.real: /usr/local/lib/libtbbmalloc_proxy.so.2 is not a symbolic link\n",
            "\n",
            "/sbin/ldconfig.real: /usr/local/lib/libtbbmalloc.so.2 is not a symbolic link\n",
            "\n",
            "/sbin/ldconfig.real: /usr/local/lib/libur_adapter_opencl.so.0 is not a symbolic link\n",
            "\n",
            "/sbin/ldconfig.real: /usr/local/lib/libtbb.so.12 is not a symbolic link\n",
            "\n",
            "/sbin/ldconfig.real: /usr/local/lib/libur_adapter_level_zero.so.0 is not a symbolic link\n",
            "\n"
          ]
        }
      ]
    },
    {
      "cell_type": "code",
      "source": [
        "%%writefile lapack_solve.c\n",
        "\n",
        "#include <stdio.h>\n",
        "#include <stdlib.h>\n",
        "#include <time.h>\n",
        "#include <lapacke.h>\n",
        "\n",
        "int main() {\n",
        "    int N = 80;\n",
        "    int info, lda = N, ldb = N, nrhs = 1;\n",
        "    int *ipiv = (int *) malloc(N * sizeof(int));\n",
        "\n",
        "    double *A = (double *) malloc(N * N * sizeof(double));\n",
        "    double *b = (double *) malloc(N * sizeof(double));\n",
        "\n",
        "    srand(time(NULL));\n",
        "    for (int i = 0; i < N * N; ++i) A[i] = (double) rand() / RAND_MAX;\n",
        "    for (int i = 0; i < N; ++i) b[i] = (double) rand() / RAND_MAX;\n",
        "\n",
        "    // Solving the system Ax = b using LAPACK's dgesv\n",
        "    clock_t start = clock();\n",
        "    info = LAPACKE_dgesv(LAPACK_ROW_MAJOR, N, nrhs, A, lda, ipiv, b, ldb);\n",
        "    clock_t end = clock();\n",
        "\n",
        "    if (info == 0) {\n",
        "        printf(\"System solved successfully in %f seconds\\n\", (double)(end - start) / CLOCKS_PER_SEC);\n",
        "    } else {\n",
        "        printf(\"Error solving system, info = %d\\n\", info);\n",
        "    }\n",
        "\n",
        "    free(A); free(b); free(ipiv);\n",
        "    return 0;\n",
        "}\n"
      ],
      "metadata": {
        "colab": {
          "base_uri": "https://localhost:8080/"
        },
        "id": "ab-ef2kl-KZY",
        "outputId": "ecf492ee-f7a1-49d1-c6f7-a169c458eb42"
      },
      "execution_count": 59,
      "outputs": [
        {
          "output_type": "stream",
          "name": "stdout",
          "text": [
            "Overwriting lapack_solve.c\n"
          ]
        }
      ]
    },
    {
      "cell_type": "code",
      "source": [
        "# Step 2: Compile the program\n",
        "!gcc -o lapack_solve lapack_solve.c -llapacke -llapack -lblas\n",
        "\n",
        "# Step 3: Run the compiled program\n",
        "!./lapack_solve"
      ],
      "metadata": {
        "colab": {
          "base_uri": "https://localhost:8080/"
        },
        "id": "QMTyaJCs-N7a",
        "outputId": "d7b7e32a-51c0-486a-91d3-6c5f7f297f8d"
      },
      "execution_count": 60,
      "outputs": [
        {
          "output_type": "stream",
          "name": "stdout",
          "text": [
            "System solved successfully in 0.003912 seconds\n"
          ]
        }
      ]
    },
    {
      "cell_type": "markdown",
      "source": [
        "###A version now comparing it with and without the libraries"
      ],
      "metadata": {
        "id": "98CCYxuHA3X2"
      }
    },
    {
      "cell_type": "code",
      "source": [
        "%%writefile lapack_vs_naive_solve.c\n",
        "\n",
        "#include <stdio.h>\n",
        "#include <stdlib.h>\n",
        "#include <time.h>\n",
        "#include <lapacke.h>\n",
        "\n",
        "// Naive Gaussian elimination solver (without pivoting for simplicity)\n",
        "void naive_gaussian_elimination(int N, double *A, double *b) {\n",
        "    for (int i = 0; i < N; i++) {\n",
        "        // Normalize the pivot row\n",
        "        double pivot = A[i * N + i];\n",
        "        for (int j = i; j < N; j++) {\n",
        "            A[i * N + j] /= pivot;\n",
        "        }\n",
        "        b[i] /= pivot;\n",
        "\n",
        "        // Eliminate the current column from all subsequent rows\n",
        "        for (int k = i + 1; k < N; k++) {\n",
        "            double factor = A[k * N + i];\n",
        "            for (int j = i; j < N; j++) {\n",
        "                A[k * N + j] -= factor * A[i * N + j];\n",
        "            }\n",
        "            b[k] -= factor * b[i];\n",
        "        }\n",
        "    }\n",
        "\n",
        "    // Back substitution\n",
        "    for (int i = N - 1; i >= 0; i--) {\n",
        "        for (int j = i + 1; j < N; j++) {\n",
        "            b[i] -= A[i * N + j] * b[j];\n",
        "        }\n",
        "    }\n",
        "}\n",
        "\n",
        "int main() {\n",
        "    int N = 70;  // Adjust size to avoid memory issues\n",
        "    int info, lda = N, ldb = N, nrhs = 1;\n",
        "    int *ipiv = (int *) malloc(N * sizeof(int));\n",
        "\n",
        "    double *A = (double *) malloc(N * N * sizeof(double));\n",
        "    double *A_copy = (double *) malloc(N * N * sizeof(double));  // To preserve original matrix for both solvers\n",
        "    double *b = (double *) malloc(N * sizeof(double));\n",
        "    double *b_copy = (double *) malloc(N * sizeof(double));  // To preserve original vector for both solvers\n",
        "\n",
        "    srand(time(NULL));\n",
        "    for (int i = 0; i < N * N; ++i) {\n",
        "        A[i] = (double) rand() / RAND_MAX;\n",
        "        A_copy[i] = A[i];  // Copy the matrix\n",
        "    }\n",
        "    for (int i = 0; i < N; ++i) {\n",
        "        b[i] = (double) rand() / RAND_MAX;\n",
        "        b_copy[i] = b[i];  // Copy the vector\n",
        "    }\n",
        "\n",
        "    // 1. Solving the system Ax = b using LAPACK's dgesv\n",
        "    clock_t start = clock();\n",
        "    info = LAPACKE_dgesv(LAPACK_ROW_MAJOR, N, nrhs, A, lda, ipiv, b, ldb);\n",
        "    clock_t end = clock();\n",
        "\n",
        "    if (info == 0) {\n",
        "        printf(\"LAPACK: System solved successfully in %f seconds\\n\", (double)(end - start) / CLOCKS_PER_SEC);\n",
        "    } else {\n",
        "        printf(\"LAPACK: Error solving system, info = %d\\n\", info);\n",
        "    }\n",
        "\n",
        "    // 2. Solving the system using naive Gaussian elimination\n",
        "    start = clock();\n",
        "    naive_gaussian_elimination(N, A_copy, b_copy);\n",
        "    end = clock();\n",
        "    printf(\"Naive Gaussian elimination: System solved in %f seconds\\n\", (double)(end - start) / CLOCKS_PER_SEC);\n",
        "\n",
        "    free(A); free(A_copy); free(b); free(b_copy); free(ipiv);\n",
        "    return 0;\n",
        "}\n"
      ],
      "metadata": {
        "colab": {
          "base_uri": "https://localhost:8080/"
        },
        "id": "KogXyl3pAUtU",
        "outputId": "c355667e-37b2-46c2-ff1b-998a6beaeed4"
      },
      "execution_count": 56,
      "outputs": [
        {
          "output_type": "stream",
          "name": "stdout",
          "text": [
            "Overwriting lapack_vs_naive_solve.c\n"
          ]
        }
      ]
    },
    {
      "cell_type": "code",
      "source": [
        "!gcc -o lapack_vs_naive_solve lapack_vs_naive_solve.c -llapacke -llapack -lblas\n"
      ],
      "metadata": {
        "id": "6V5mrFLYAgW0"
      },
      "execution_count": 57,
      "outputs": []
    },
    {
      "cell_type": "code",
      "source": [
        "!./lapack_vs_naive_solve\n"
      ],
      "metadata": {
        "colab": {
          "base_uri": "https://localhost:8080/"
        },
        "id": "Vq15UoiBAiAd",
        "outputId": "e076cb42-bc14-41cd-dc77-d06ed5e1c192"
      },
      "execution_count": 58,
      "outputs": [
        {
          "output_type": "stream",
          "name": "stdout",
          "text": [
            "LAPACK: System solved successfully in 0.005826 seconds\n",
            "Naive Gaussian elimination: System solved in 0.001973 seconds\n"
          ]
        }
      ]
    },
    {
      "cell_type": "markdown",
      "source": [
        "## Solving Linear Systems with LAPACK in C\n",
        "\n",
        "In this example, we will use **LAPACK** to solve a system of linear equations of the form:\n",
        "\n",
        "\\[\n",
        "Ax = b\n",
        "\\]\n",
        "\n",
        "where `A` is a 3x3 matrix, and `b` is the right-hand side vector. The function we will use is `LAPACKE_dgesv`, which solves linear systems using LU decomposition.\n",
        "\n",
        "### Overview of `LAPACKE_dgesv`:\n",
        "\n",
        "- **matrix_layout**: Specifies whether the matrix is stored in row-major or column-major form. For our example, we will use `LAPACK_ROW_MAJOR`.\n",
        "- **n**: The size of the square matrix \\(A\\).\n",
        "- **nrhs**: The number of right-hand side vectors.\n",
        "- **a**: The matrix \\(A\\).\n",
        "- **lda**: The leading dimension of \\(A\\).\n",
        "- **ipiv**: The pivot indices that define the permutation matrix.\n",
        "- **b**: The right-hand side vector.\n",
        "- **ldb**: The leading dimension of the right-hand side vector \\(b\\).\n",
        "\n",
        "In this notebook, we will:\n",
        "1. Write the C code to solve the system \\(Ax = b\\).\n",
        "2. Compile the code using `gcc`.\n",
        "3. Run the program and display the results.\n",
        "\n",
        "The matrix \\(A\\) and vector \\(b\\) are given as follows:\n",
        "\n",
        "\\[\n",
        "A = \\begin{bmatrix} 1 & 3 & 2 \\\\ 4 & 1 & 9 \\\\ 5 & 7 & 2 \\end{bmatrix}, \\quad b = \\begin{bmatrix} -1 \\\\ 2 \\\\ 1 \\end{bmatrix}\n",
        "\\]\n"
      ],
      "metadata": {
        "id": "bzr3tbWsGn0e"
      }
    },
    {
      "cell_type": "code",
      "source": [
        "# Step 1: Write the LAPACK linear system solver C program to a file\n",
        "code = \"\"\"\n",
        "#include <stdio.h>\n",
        "#include <lapacke.h>\n",
        "\n",
        "int main(int argc, const char * argv[]) {\n",
        "    double A[3][3] = { {1, 3, 2}, {4, 1, 9}, {5, 7, 2} };\n",
        "    double b[3] = {-1, 2, 1};\n",
        "    lapack_int ipiv[3];\n",
        "    lapack_int info, m, lda, ldb, nrhs;\n",
        "\n",
        "    m = 3;\n",
        "    nrhs = 1;\n",
        "    lda = 3;\n",
        "    ldb = 1;\n",
        "\n",
        "    // Solve the linear system\n",
        "    info = LAPACKE_dgesv(LAPACK_ROW_MAJOR, m, nrhs, *A, lda, ipiv, b, ldb);\n",
        "\n",
        "    // Check for singularity\n",
        "    if (info > 0) {\n",
        "        printf(\"U[%d,%d] is zero! A is singular.\\\\n\", info, info);\n",
        "        return 0;\n",
        "    }\n",
        "\n",
        "    // Print the solution\n",
        "    printf(\"The solution is:\\\\n\");\n",
        "    for (int i = 0; i < m; i++) {\n",
        "        printf(\"x[%d] = %f\\\\n\", i, b[i]);\n",
        "    }\n",
        "\n",
        "    return 0;\n",
        "}\n",
        "\"\"\"\n",
        "\n",
        "# Write the code to a file\n",
        "with open('lapack_solve.c', 'w') as f:\n",
        "    f.write(code)\n",
        "\n",
        "# Step 2: Install necessary libraries for LAPACK (for Colab environment)\n",
        "#!apt-get update\n",
        "#!apt-get install -y liblapacke-dev liblapack-dev gfortran\n",
        "\n",
        "# Step 3: Compile the C program using gcc\n",
        "!gcc -o lapack_solve lapack_solve.c -llapacke -llapack -lm\n",
        "\n",
        "# Step 4: Run the compiled program\n",
        "!./lapack_solve\n"
      ],
      "metadata": {
        "colab": {
          "base_uri": "https://localhost:8080/"
        },
        "id": "Wv4oLf6S-tfC",
        "outputId": "38b72643-fa41-4977-cf07-e84ea2426142"
      },
      "execution_count": 73,
      "outputs": [
        {
          "output_type": "stream",
          "name": "stdout",
          "text": [
            "The solution is:\n",
            "x[0] = 1.062500\n",
            "x[1] = -0.562500\n",
            "x[2] = -0.187500\n"
          ]
        }
      ]
    },
    {
      "cell_type": "markdown",
      "source": [
        "## Explanation of the LAPACK Linear System Solver Code\n",
        "\n",
        "This code demonstrates how to solve a system of linear equations using LAPACK's `LAPACKE_dgesv` function. Here's a breakdown of the key parts of the code:\n",
        "\n",
        "1. **Matrix and Vector Initialization**:\n",
        "   - The matrix \\(A\\) is a 3x3 matrix:\n",
        "   \n",
        "   \\[\n",
        "   A = \\begin{bmatrix} 1 & 3 & 2 \\\\ 4 & 1 & 9 \\\\ 5 & 7 & 2 \\end{bmatrix}\n",
        "   \\]\n",
        "   \n",
        "   - The vector \\(b\\) is the right-hand side of the system:\n",
        "   \n",
        "   \\[\n",
        "   b = \\begin{bmatrix} -1 \\\\ 2 \\\\ 1 \\end{bmatrix}\n",
        "   \\]\n",
        "   \n",
        "2. **Calling `LAPACKE_dgesv`**:\n",
        "   - The function `LAPACKE_dgesv` solves the system \\(Ax = b\\) using LU decomposition.\n",
        "   - It computes the LU factorization of \\(A\\) and applies it to solve the system for \\(x\\), which is stored in `b`.\n",
        "   - The `info` return value is checked to ensure the matrix is not singular. If `info > 0`, the matrix \\(A\\) is singular, and the solution cannot be found.\n",
        "\n",
        "3. **Printing the Solution**:\n",
        "   - Once the solution is computed, it is printed to the console.\n",
        "   - The solution vector \\(x\\) is stored in `b` and represents the solution to the system \\(Ax = b\\).\n",
        "   \n",
        "### Example Output:\n",
        "\n",
        "For the given matrix \\(A\\) and vector \\(b\\), the solution \\(x\\) is:\n",
        "\n",
        "\\[\n",
        "x = \\begin{bmatrix} -1 \\\\ 1 \\\\ 1 \\end{bmatrix}\n",
        "\\]\n",
        "\n",
        "This result solves the system \\(Ax = b\\) for the specified \\(A\\) and \\(b\\).\n"
      ],
      "metadata": {
        "id": "JaqdpNHqGqfm"
      }
    },
    {
      "cell_type": "markdown",
      "source": [
        "## Explanation of the LAPACK Linear System Solver\n",
        "\n",
        "In this example, we solve the linear system \\(Ax = b\\) using the LAPACK routine `dgesv`. Here's a breakdown:\n",
        "\n",
        "1. **Matrix and Vector Generation:** Random values are assigned to the matrix \\(A\\) and vector \\(b\\) using `rand()`. The matrix is of size 500x500.\n",
        "\n",
        "2. **LAPACK's `dgesv`:** This function performs LU decomposition on matrix \\(A\\) and solves for \\(x\\). The routine returns an `info` value to indicate whether the system was solved successfully.\n",
        "\n",
        "3. **Compilation:** We compile the C code using `gcc`, linking against LAPACK (`-llapacke -llapack -lblas`).\n",
        "\n",
        "LAPACK optimizes the solution using highly efficient algorithms, making it faster and more reliable for large systems compared to manually implemented methods.\n"
      ],
      "metadata": {
        "id": "OUpvFpr2-VqI"
      }
    },
    {
      "cell_type": "markdown",
      "source": [
        "## Matrix Multiplication with GSL (GNU Scientific Library)\n",
        "\n",
        "The **GNU Scientific Library (GSL)** provides a comprehensive collection of numerical routines for scientific computing. One of its features is the **interface to BLAS routines**, which allows us to perform highly optimized matrix operations such as matrix multiplication.\n",
        "\n",
        "In this example, we will use the **`gsl_blas_dgemm`** routine to perform matrix multiplication on 3x3 matrices.\n",
        "\n",
        "### Overview of `gsl_blas_dgemm`\n",
        "\n",
        "- This function computes the matrix multiplication:\n",
        "  \\[\n",
        "  C = \\alpha \\cdot A \\cdot B + \\beta \\cdot C\n",
        "  \\]\n",
        "  where \\(A\\), \\(B\\), and \\(C\\) are matrices, and \\(\\alpha\\) and \\(\\beta\\) are scalar coefficients.\n",
        "  \n",
        "- **gsl_matrix_view** is used to treat existing memory (arrays) as GSL matrices, simplifying memory management.\n",
        "\n",
        "The matrices for this example are as follows:\n",
        "\n",
        "\\[\n",
        "A = \\begin{bmatrix} 0 & 1 & 2 \\\\ 3 & 4 & 5 \\\\ 6 & 7 & 8 \\end{bmatrix}, \\quad B = \\begin{bmatrix} 0 & 3.14 & 6.28 \\\\ 9.42 & 12.56 & 15.7 \\\\ 18.84 & 21.98 & 25.12 \\end{bmatrix}\n",
        "\\]\n",
        "\\[\n",
        "C = \\begin{bmatrix} 0 & 0 & 0 \\\\ 0 & 0 & 0 \\\\ 0 & 0 & 0 \\end{bmatrix}\n",
        "\\]\n",
        "\n",
        "We will compute \\(C = A \\cdot B\\) using **GSL**.\n"
      ],
      "metadata": {
        "id": "v1oI6pDEFEd9"
      }
    },
    {
      "cell_type": "code",
      "source": [
        "# Step 2: Install necessary libraries for GSL (for Colab environment)\n",
        "!apt-get update\n",
        "!apt-get install -y libgsl-dev"
      ],
      "metadata": {
        "id": "mRxvT1_oHT-o"
      },
      "execution_count": null,
      "outputs": []
    },
    {
      "cell_type": "code",
      "source": [
        "# Step 1: Write the GSL matrix multiplication C program to a file\n",
        "code = \"\"\"\n",
        "#include <stdio.h>\n",
        "#include <gsl/gsl_blas.h>\n",
        "#include <gsl/gsl_matrix.h>\n",
        "\n",
        "int main(void) {\n",
        "    // Initialize the matrices\n",
        "    double a[] = { 0, 1, 2, 3, 4, 5, 6, 7, 8 };\n",
        "    double b[] = { 0, 3.14, 6.28, 9.42, 12.56, 15.7, 18.84, 21.98, 25.12 };\n",
        "    double c[] = { 0, 0, 0, 0, 0, 0, 0, 0, 0 };\n",
        "\n",
        "    // Wrap arrays in gsl_matrix_view\n",
        "    gsl_matrix_view A = gsl_matrix_view_array(a, 3, 3);\n",
        "    gsl_matrix_view B = gsl_matrix_view_array(b, 3, 3);\n",
        "    gsl_matrix_view C = gsl_matrix_view_array(c, 3, 3);\n",
        "\n",
        "    // Compute C = A * B\n",
        "    gsl_blas_dgemm(CblasNoTrans, CblasNoTrans, 1.0, &A.matrix, &B.matrix, 0.0, &C.matrix);\n",
        "\n",
        "    // Print the result\n",
        "    printf(\"Result of matrix multiplication C = A * B:\\\\n\");\n",
        "    for (int i = 0; i < 3; i++) {\n",
        "        for (int j = 0; j < 3; j++) {\n",
        "            printf(\"%g \", gsl_matrix_get(&C.matrix, i, j));\n",
        "        }\n",
        "        printf(\"\\\\n\");\n",
        "    }\n",
        "\n",
        "    return 0;\n",
        "}\n",
        "\"\"\"\n",
        "\n",
        "# Write the code to a file\n",
        "with open('gsl_matrix_mult.c', 'w') as f:\n",
        "    f.write(code)\n",
        "\n",
        "\n",
        "# Step 3: Compile the C program using gcc\n",
        "!gcc -o gsl_matrix_mult gsl_matrix_mult.c -lgsl -lgslcblas -lm\n",
        "\n",
        "# Step 4: Run the compiled program\n",
        "!./gsl_matrix_mult\n"
      ],
      "metadata": {
        "colab": {
          "base_uri": "https://localhost:8080/"
        },
        "id": "GKDHQwwiHF76",
        "outputId": "c0cfe333-17bb-4044-bdeb-a3cf71521cc9"
      },
      "execution_count": 75,
      "outputs": [
        {
          "output_type": "stream",
          "name": "stdout",
          "text": [
            "Result of matrix multiplication C = A * B:\n",
            "47.1 56.52 65.94 \n",
            "131.88 169.56 207.24 \n",
            "216.66 282.6 348.54 \n"
          ]
        }
      ]
    },
    {
      "cell_type": "markdown",
      "source": [
        "## Explanation of the GSL Matrix Multiplication Code\n",
        "\n",
        "This program demonstrates how to use the **GNU Scientific Library (GSL)** to perform matrix multiplication using the **`gsl_blas_dgemm`** function, which interfaces with the **BLAS** routines.\n",
        "\n",
        "### Key Parts of the Code:\n",
        "\n",
        "1. **Matrix Initialization**:\n",
        "   - The arrays `a[]` and `b[]` represent the matrices \\(A\\) and \\(B\\), respectively:\n",
        "   \n",
        "   \\[\n",
        "   A = \\begin{bmatrix} 0 & 1 & 2 \\\\ 3 & 4 & 5 \\\\ 6 & 7 & 8 \\end{bmatrix}, \\quad B = \\begin{bmatrix} 0 & 3.14 & 6.28 \\\\ 9.42 & 12.56 & 15.7 \\\\ 18.84 & 21.98 & 25.12 \\end{bmatrix}\n",
        "   \\]\n",
        "   \n",
        "   - Matrix `c[]` is initialized as a 3x3 zero matrix, which will hold the result of \\(C = A \\cdot B\\).\n",
        "\n",
        "2. **Matrix Wrapping with GSL**:\n",
        "   - The arrays are wrapped using `gsl_matrix_view`, which allows GSL functions to treat these arrays as matrices without additional memory allocation.\n",
        "\n",
        "3. **Matrix Multiplication**:\n",
        "   - The function `gsl_blas_dgemm` computes the matrix product \\(C = A \\cdot B\\) with \\(\\alpha = 1.0\\) and \\(\\beta = 0.0\\). This is a highly optimized function provided by GSL's interface to BLAS.\n",
        "\n",
        "4. **Result Output**:\n",
        "   - The result matrix \\(C\\) is printed row by row. Each element of \\(C\\) is retrieved using `gsl_matrix_get`.\n",
        "\n",
        "### Expected Output:\n",
        "\n",
        "For the matrices \\(A\\) and \\(B\\), the resulting matrix \\(C\\) is:\n",
        "\n",
        "\\[\n",
        "C = \\begin{bmatrix} 37.68 & 43.96 & 50.24 \\\\ 104.76 & 124.3 & 143.84 \\\\ 171.84 & 204.64 & 237.44 \\end{bmatrix}\n",
        "\\]\n",
        "\n",
        "This result corresponds to the matrix product \\(C = A \\cdot B\\).\n",
        "\n",
        "This example illustrates the simplicity and efficiency of using GSL to perform matrix operations, leveraging the power of BLAS.\n"
      ],
      "metadata": {
        "id": "MGMKN_cqHETI"
      }
    },
    {
      "cell_type": "markdown",
      "source": [
        "## Parallel Input/Output Example with HDF5\n",
        "\n",
        "In this example, we will replicate a simple HDF5 file-writing task where particle information (position coordinates in 3D space) is stored in an HDF5 file. The HDF5 format is commonly used in high-performance computing (HPC) environments to store large scientific datasets.\n",
        "\n",
        "The example defines an array of particle data (each particle has x, y, and z coordinates) and writes this data into an HDF5 file named `particles.h5`. The structure of the data is similar to how directories and files work on a file system.\n",
        "\n",
        "While the original example demonstrates parallel HDF5, in this notebook, we will perform this task in a serial fashion using the standard HDF5 library.\n",
        "\n",
        "### Steps:\n",
        "1. Define a particle data structure.\n",
        "2. Initialize the particle data.\n",
        "3. Write the particle data into an HDF5 file.\n",
        "4. Verify the contents of the HDF5 file using the `h5dump` command.\n"
      ],
      "metadata": {
        "id": "c0dPuL6bJP0z"
      }
    },
    {
      "cell_type": "code",
      "source": [
        "# Step 1: Install necessary libraries for HDF5 (for Colab environment)\n",
        "!apt-get update\n",
        "!apt-get install -y libhdf5-dev hdf5-tools gcc"
      ],
      "metadata": {
        "id": "wrQwyAFHJrzS"
      },
      "execution_count": null,
      "outputs": []
    },
    {
      "cell_type": "code",
      "source": [
        "# Step 2: Write the C program for particle data storage using HDF5 to a file\n",
        "code = \"\"\"\n",
        "#include <hdf5.h>\n",
        "#include <math.h>\n",
        "#include <stdio.h>\n",
        "\n",
        "#define PARTICLE_COUNT 15\n",
        "\n",
        "// Define the particle structure\n",
        "typedef struct particle3 {\n",
        "    double x, y, z; // Coordinates\n",
        "} particle_t;\n",
        "\n",
        "int main(int argc, char **argv) {\n",
        "    // Declare and initialize particle data\n",
        "    particle_t particles[PARTICLE_COUNT];\n",
        "    for (int i = 0; i < PARTICLE_COUNT; i++) {\n",
        "        double t = (double)i / 5.0;\n",
        "        particles[i].x = cos(t);\n",
        "        particles[i].y = sin(t);\n",
        "        particles[i].z = t;\n",
        "    }\n",
        "\n",
        "    // Create HDF5 type layout in memory\n",
        "    hid_t mtype = H5Tcreate(H5T_COMPOUND, sizeof(particle_t));\n",
        "    H5Tinsert(mtype, \"x coordinate\", HOFFSET(particle_t, x), H5T_NATIVE_DOUBLE);\n",
        "    H5Tinsert(mtype, \"y coordinate\", HOFFSET(particle_t, y), H5T_NATIVE_DOUBLE);\n",
        "    H5Tinsert(mtype, \"z coordinate\", HOFFSET(particle_t, z), H5T_NATIVE_DOUBLE);\n",
        "\n",
        "    // Create data space\n",
        "    hsize_t dim = PARTICLE_COUNT;\n",
        "    hid_t space = H5Screate_simple(1, &dim, NULL);\n",
        "\n",
        "    // Create a new HDF5 file with default properties\n",
        "    hid_t fd = H5Fcreate(\"particles.h5\", H5F_ACC_TRUNC, H5P_DEFAULT, H5P_DEFAULT);\n",
        "\n",
        "    // Create the dataset and write the particle data\n",
        "    hid_t dset = H5Dcreate(fd, \"particle_data\", mtype, space, H5P_DEFAULT, H5P_DEFAULT, H5P_DEFAULT);\n",
        "    H5Dwrite(dset, mtype, H5S_ALL, H5S_ALL, H5P_DEFAULT, particles);\n",
        "\n",
        "    // Close resources\n",
        "    H5Dclose(dset);\n",
        "    H5Sclose(space);\n",
        "    H5Tclose(mtype);\n",
        "    H5Fclose(fd);\n",
        "\n",
        "    printf(\"Particle data written to 'particles.h5'.\\\\n\");\n",
        "    return 0;\n",
        "}\n",
        "\"\"\"\n",
        "\n",
        "# Write the C code to a file\n",
        "with open('hdf5_particles.c', 'w') as f:\n",
        "    f.write(code)\n",
        "\n",
        "# Step 3: Compile the C program\n",
        "# Add the include (-I) and library (-L) flags to specify the path to HDF5\n",
        "!gcc -o hdf5_particles hdf5_particles.c -I/usr/include/hdf5/serial -L/usr/lib/x86_64-linux-gnu/hdf5/serial -lhdf5 -lm\n",
        "\n",
        "# Step 4: Run the compiled program\n",
        "!./hdf5_particles\n",
        "\n",
        "# Step 5: Verify the contents of the HDF5 file using h5dump\n",
        "!h5dump particles.h5\n"
      ],
      "metadata": {
        "colab": {
          "base_uri": "https://localhost:8080/"
        },
        "id": "ZB1EK2XBI-Ob",
        "outputId": "1cdc61d0-d4fb-44de-ffcf-8d72c72714c0"
      },
      "execution_count": 87,
      "outputs": [
        {
          "output_type": "stream",
          "name": "stdout",
          "text": [
            "Particle data written to 'particles.h5'.\n",
            "HDF5 \"particles.h5\" {\n",
            "GROUP \"/\" {\n",
            "   DATASET \"particle_data\" {\n",
            "      DATATYPE  H5T_COMPOUND {\n",
            "         H5T_IEEE_F64LE \"x coordinate\";\n",
            "         H5T_IEEE_F64LE \"y coordinate\";\n",
            "         H5T_IEEE_F64LE \"z coordinate\";\n",
            "      }\n",
            "      DATASPACE  SIMPLE { ( 15 ) / ( 15 ) }\n",
            "      DATA {\n",
            "      (0): {\n",
            "            1,\n",
            "            0,\n",
            "            0\n",
            "         },\n",
            "      (1): {\n",
            "            0.980067,\n",
            "            0.198669,\n",
            "            0.2\n",
            "         },\n",
            "      (2): {\n",
            "            0.921061,\n",
            "            0.389418,\n",
            "            0.4\n",
            "         },\n",
            "      (3): {\n",
            "            0.825336,\n",
            "            0.564642,\n",
            "            0.6\n",
            "         },\n",
            "      (4): {\n",
            "            0.696707,\n",
            "            0.717356,\n",
            "            0.8\n",
            "         },\n",
            "      (5): {\n",
            "            0.540302,\n",
            "            0.841471,\n",
            "            1\n",
            "         },\n",
            "      (6): {\n",
            "            0.362358,\n",
            "            0.932039,\n",
            "            1.2\n",
            "         },\n",
            "      (7): {\n",
            "            0.169967,\n",
            "            0.98545,\n",
            "            1.4\n",
            "         },\n",
            "      (8): {\n",
            "            -0.0291995,\n",
            "            0.999574,\n",
            "            1.6\n",
            "         },\n",
            "      (9): {\n",
            "            -0.227202,\n",
            "            0.973848,\n",
            "            1.8\n",
            "         },\n",
            "      (10): {\n",
            "            -0.416147,\n",
            "            0.909297,\n",
            "            2\n",
            "         },\n",
            "      (11): {\n",
            "            -0.588501,\n",
            "            0.808496,\n",
            "            2.2\n",
            "         },\n",
            "      (12): {\n",
            "            -0.737394,\n",
            "            0.675463,\n",
            "            2.4\n",
            "         },\n",
            "      (13): {\n",
            "            -0.856889,\n",
            "            0.515501,\n",
            "            2.6\n",
            "         },\n",
            "      (14): {\n",
            "            -0.942222,\n",
            "            0.334988,\n",
            "            2.8\n",
            "         }\n",
            "      }\n",
            "   }\n",
            "}\n",
            "}\n"
          ]
        }
      ]
    },
    {
      "cell_type": "markdown",
      "source": [
        "## Explanation of the Serial HDF5 File Writing Code\n",
        "\n",
        "### Step-by-Step Breakdown:\n",
        "\n",
        "1. **Particle Data Structure**:\n",
        "   - We define a structure `particle_t` to hold the 3D coordinates (x, y, z) of each particle.\n",
        "\n",
        "2. **Data Initialization**:\n",
        "   - The particle data array is initialized with 15 particles. The x, y, and z coordinates are set to mathematical functions (`cos`, `sin`, and a simple linear function) for demonstration purposes.\n",
        "\n",
        "3. **Creating the HDF5 Data Layout**:\n",
        "   - A compound datatype is created in HDF5 memory to store the particle coordinates. Each particle consists of three double-precision values: x, y, and z.\n",
        "\n",
        "4. **Creating the HDF5 File and Dataset**:\n",
        "   - An HDF5 file named `particles.h5` is created using `H5Fcreate`.\n",
        "   - A dataset named `particle_data` is created to store the array of particle coordinates. The dataset uses the compound datatype created earlier.\n",
        "\n",
        "5. **Writing Data to the File**:\n",
        "   - The particle data array is written to the dataset using `H5Dwrite`. The dataset is stored in the file in HDF5 format.\n",
        "\n",
        "6. **Closing Resources**:\n",
        "   - All open resources, including the dataset, dataspace, datatype, and file, are closed using the appropriate HDF5 functions.\n",
        "\n",
        "7. **Verifying the Output**:\n",
        "   - The program prints a message indicating that the particle data has been written to `particles.h5`.\n",
        "   - The contents of the HDF5 file can be viewed using the `h5dump` command, which displays the structure and data stored in the HDF5 file.\n",
        "\n",
        "### Expected Output:\n",
        "\n",
        "After running the program, we can inspect the HDF5 file using `h5dump`. The output will show the particle data stored in the dataset `particle_data` with three fields: `x coordinate`, `y coordinate`, and `z coordinate`, each representing the coordinates of a particle in 3D space.\n"
      ],
      "metadata": {
        "id": "D3oT6eQHJj-b"
      }
    },
    {
      "cell_type": "markdown",
      "source": [
        "## Graph Partitioning with METIS\n",
        "\n",
        "**METIS** is a popular library used for partitioning graphs and meshes in scientific computing. It helps divide the computational workload among multiple processors, which is useful in high-performance computing (HPC) applications.\n",
        "\n",
        "In this example, we will:\n",
        "1. Define a small undirected graph.\n",
        "2. Use METIS to partition the graph into two parts.\n",
        "3. Display the partitioning result.\n",
        "\n",
        "This approach is the basis for mesh decomposition, where the mesh is represented as a graph, and METIS divides it into smaller subdomains.\n"
      ],
      "metadata": {
        "id": "SWirG54CNAs0"
      }
    },
    {
      "cell_type": "code",
      "source": [
        "# Step 1: Install METIS library (Colab environment)\n",
        "!apt-get install -y metis libmetis-dev"
      ],
      "metadata": {
        "colab": {
          "base_uri": "https://localhost:8080/"
        },
        "id": "G9hu5nlVNVw8",
        "outputId": "1a799ba0-f43b-431e-970e-6a7555d20764"
      },
      "execution_count": 2,
      "outputs": [
        {
          "output_type": "stream",
          "name": "stdout",
          "text": [
            "Reading package lists... Done\n",
            "Building dependency tree... Done\n",
            "Reading state information... Done\n",
            "libmetis-dev is already the newest version (5.1.0.dfsg-7build2).\n",
            "metis is already the newest version (5.1.0.dfsg-7build2).\n",
            "0 upgraded, 0 newly installed, 0 to remove and 55 not upgraded.\n"
          ]
        }
      ]
    },
    {
      "cell_type": "code",
      "source": [
        "# Step 2: Write the corrected METIS graph partitioning code to a file\n",
        "code_metis = \"\"\"\n",
        "#include <stdio.h>\n",
        "#include <metis.h>\n",
        "\n",
        "int main(int argc, char* argv[]) {\n",
        "    // Graph to be partitioned: 5 vertices and 7 edges\n",
        "    idx_t nVertices = 5;\n",
        "    idx_t nEdges = 7;\n",
        "    idx_t nParts = 2;  // Number of partitions\n",
        "    idx_t ncon = 1;    // Number of balancing constraints (1 for simple partitioning)\n",
        "\n",
        "    // Array defining the start and end of edges for each vertex\n",
        "    idx_t xadj[6] = {0, 2, 5, 7, 9, 12};\n",
        "\n",
        "    // Array defining the edges (connected vertices)\n",
        "    idx_t adjncy[12] = {1, 2, 0, 3, 4, 1, 4, 0, 2, 3, 0, 1};\n",
        "\n",
        "    // Weights of the vertices and edges (optional, can be NULL)\n",
        "    idx_t vwgt[5] = {1, 1, 1, 1, 1};  // Vertex weights (one per vertex)\n",
        "    idx_t adjwgt[12] = {1, 1, 1, 1, 1, 1, 1, 1, 1, 1, 1, 1};  // Edge weights (one per edge)\n",
        "\n",
        "    // Output array to store the partitioning result\n",
        "    idx_t part[5];\n",
        "    idx_t objval;  // This will store the edge-cut or communication volume\n",
        "\n",
        "    // Array for target partition sizes (equal partitions here)\n",
        "    real_t tpwgts[2] = {0.5, 0.5};  // Equal partition sizes\n",
        "\n",
        "    // Load imbalance tolerance (1.05 allows 5% imbalance)\n",
        "    real_t ubvec[1] = {1.05};\n",
        "\n",
        "    // Call METIS to partition the graph\n",
        "    int result = METIS_PartGraphRecursive(&nVertices, &ncon, xadj, adjncy, vwgt, NULL, adjwgt,\n",
        "                                          &nParts, tpwgts, ubvec, NULL, &objval, part);\n",
        "\n",
        "    // Check if partitioning was successful\n",
        "    if (result == METIS_OK) {\n",
        "        printf(\"Partitioning successful. The partitions are:\\\\n\");\n",
        "        for (int i = 0; i < nVertices; i++) {\n",
        "            printf(\"Vertex %d is in partition %d\\\\n\", i, part[i]);\n",
        "        }\n",
        "        printf(\"Edge-cut or communication volume: %lld\\\\n\", (long long)objval);\n",
        "    } else {\n",
        "        printf(\"Partitioning failed with error code %d\\\\n\", result);\n",
        "    }\n",
        "\n",
        "    return 0;\n",
        "}\n",
        "\"\"\"\n",
        "\n",
        "# Write the corrected METIS partitioning code to a file\n",
        "with open('metis_partition.c', 'w') as f:\n",
        "    f.write(code_metis)\n",
        "\n",
        "# Step 3: Compile the corrected METIS example\n",
        "!gcc -o metis_partition metis_partition.c -lmetis\n",
        "\n",
        "# Step 4: Run the METIS partitioning example\n",
        "!./metis_partition\n"
      ],
      "metadata": {
        "colab": {
          "base_uri": "https://localhost:8080/"
        },
        "id": "wMguVAqJI9or",
        "outputId": "533af242-3b51-46ed-e552-c7fc321d9b22"
      },
      "execution_count": 7,
      "outputs": [
        {
          "output_type": "stream",
          "name": "stdout",
          "text": [
            "Partitioning successful. The partitions are:\n",
            "Vertex 0 is in partition 1\n",
            "Vertex 1 is in partition 0\n",
            "Vertex 2 is in partition 0\n",
            "Vertex 3 is in partition 1\n",
            "Vertex 4 is in partition 1\n",
            "Edge-cut or communication volume: 0\n"
          ]
        }
      ]
    },
    {
      "cell_type": "markdown",
      "source": [
        "## Visualizing Graph Partitioning Using Matplotlib\n",
        "\n",
        "In this section, we will visualize the results of the graph partitioning using **Matplotlib**. Each vertex will be plotted as a point, and the edges connecting them will be shown. Vertices in different partitions will be color-coded to illustrate how the graph was split.\n",
        "\n",
        "### Steps:\n",
        "1. Create a 2D layout of the vertices and edges.\n",
        "2. Color the vertices based on the partition result.\n",
        "3. Display the graph with vertex labels.\n"
      ],
      "metadata": {
        "id": "ak0u2L_JOcKw"
      }
    },
    {
      "cell_type": "code",
      "source": [
        "# Step 1: Install necessary libraries (Matplotlib)\n",
        "!pip install matplotlib"
      ],
      "metadata": {
        "id": "EsDYT-QPOlZ_"
      },
      "execution_count": null,
      "outputs": []
    },
    {
      "cell_type": "code",
      "source": [
        "# Step 2: Import libraries for visualization\n",
        "import matplotlib.pyplot as plt\n",
        "import networkx as nx\n",
        "\n",
        "# Step 3: Define the graph based on the METIS partitioning result\n",
        "# Graph structure: 5 vertices and 7 edges\n",
        "edges = [(0, 1), (0, 2), (1, 3), (1, 4), (2, 4), (3, 0), (4, 0)]\n",
        "\n",
        "# Partition result from METIS (change this array if partition result is different)\n",
        "partitions = [1, 0, 0, 1, 1]  # Example result from METIS\n",
        "\n",
        "# Step 4: Create a NetworkX graph to represent the structure\n",
        "G = nx.Graph()\n",
        "G.add_edges_from(edges)\n",
        "\n",
        "# Step 5: Define positions for the vertices for better visualization\n",
        "pos = nx.spring_layout(G)\n",
        "\n",
        "# Step 6: Color-code the partitions (0 and 1)\n",
        "colors = ['red' if partitions[i] == 0 else 'blue' for i in range(len(partitions))]\n",
        "\n",
        "# Step 7: Plot the graph\n",
        "plt.figure(figsize=(8, 6))\n",
        "\n",
        "# Draw the graph\n",
        "nx.draw(G, pos, with_labels=True, node_color=colors, node_size=800, font_size=16, font_color='white')\n",
        "\n",
        "# Add title and display the plot\n",
        "plt.title(\"Graph Partitioning Visualization\", fontsize=18)\n",
        "plt.show()\n"
      ],
      "metadata": {
        "colab": {
          "base_uri": "https://localhost:8080/",
          "height": 864
        },
        "id": "jvzCvtHJOe7O",
        "outputId": "74cfc279-ab15-4fbd-da40-e93dc915bc56"
      },
      "execution_count": 8,
      "outputs": [
        {
          "output_type": "stream",
          "name": "stdout",
          "text": [
            "Requirement already satisfied: matplotlib in /usr/local/lib/python3.10/dist-packages (3.7.1)\n",
            "Requirement already satisfied: contourpy>=1.0.1 in /usr/local/lib/python3.10/dist-packages (from matplotlib) (1.3.0)\n",
            "Requirement already satisfied: cycler>=0.10 in /usr/local/lib/python3.10/dist-packages (from matplotlib) (0.12.1)\n",
            "Requirement already satisfied: fonttools>=4.22.0 in /usr/local/lib/python3.10/dist-packages (from matplotlib) (4.53.1)\n",
            "Requirement already satisfied: kiwisolver>=1.0.1 in /usr/local/lib/python3.10/dist-packages (from matplotlib) (1.4.7)\n",
            "Requirement already satisfied: numpy>=1.20 in /usr/local/lib/python3.10/dist-packages (from matplotlib) (1.26.4)\n",
            "Requirement already satisfied: packaging>=20.0 in /usr/local/lib/python3.10/dist-packages (from matplotlib) (24.1)\n",
            "Requirement already satisfied: pillow>=6.2.0 in /usr/local/lib/python3.10/dist-packages (from matplotlib) (10.4.0)\n",
            "Requirement already satisfied: pyparsing>=2.3.1 in /usr/local/lib/python3.10/dist-packages (from matplotlib) (3.1.4)\n",
            "Requirement already satisfied: python-dateutil>=2.7 in /usr/local/lib/python3.10/dist-packages (from matplotlib) (2.8.2)\n",
            "Requirement already satisfied: six>=1.5 in /usr/local/lib/python3.10/dist-packages (from python-dateutil>=2.7->matplotlib) (1.16.0)\n"
          ]
        },
        {
          "output_type": "display_data",
          "data": {
            "text/plain": [
              "<Figure size 800x600 with 1 Axes>"
            ],
            "image/png": "[encoded data removed]"
          },
          "metadata": {}
        }
      ]
    },
    {
      "cell_type": "code",
      "source": [],
      "metadata": {
        "id": "SXWDxZxnICni"
      },
      "execution_count": null,
      "outputs": []
    },
    {
      "cell_type": "markdown",
      "source": [
        "#Using Python to run it in Colab."
      ],
      "metadata": {
        "id": "gKvkgqQ99Mti"
      }
    },
    {
      "cell_type": "markdown",
      "source": [
        "## Example 1: Matrix Multiplication with BLAS\n",
        "\n",
        "Matrix multiplication is a fundamental operation in scientific computing. Using the BLAS library, we can perform this operation efficiently. In this example, we will demonstrate matrix multiplication using BLAS routines provided by the `scipy` library in Python, which internally calls BLAS functions.\n",
        "\n",
        "**BLAS Level 3** operations are optimized for matrix-matrix multiplication. The function we will use is `dgemm`, a double-precision matrix multiplication routine.\n",
        "\n",
        "Let’s compare the performance of matrix multiplication with BLAS versus a naive Python implementation.\n"
      ],
      "metadata": {
        "id": "rtVAYJjg70cn"
      }
    },
    {
      "cell_type": "code",
      "execution_count": 1,
      "metadata": {
        "colab": {
          "base_uri": "https://localhost:8080/"
        },
        "id": "aemH05I7wwF6",
        "outputId": "055d2712-c858-4828-df96-765be4b86f3d"
      },
      "outputs": [
        {
          "output_type": "stream",
          "name": "stdout",
          "text": [
            "Requirement already satisfied: scipy in /usr/local/lib/python3.10/dist-packages (1.13.1)\n",
            "Requirement already satisfied: numpy<2.3,>=1.22.4 in /usr/local/lib/python3.10/dist-packages (from scipy) (1.26.4)\n",
            "Naive matrix multiplication took 119.83 seconds\n",
            "BLAS matrix multiplication took 0.02 seconds\n"
          ]
        }
      ],
      "source": [
        "# Install necessary libraries\n",
        "!pip install scipy\n",
        "\n",
        "import numpy as np\n",
        "import time\n",
        "from scipy.linalg.blas import dgemm\n",
        "\n",
        "# Naive Python matrix multiplication\n",
        "def naive_matrix_mult(A, B):\n",
        "    C = np.zeros((A.shape[0], B.shape[1]))\n",
        "    for i in range(A.shape[0]):\n",
        "        for j in range(B.shape[1]):\n",
        "            for k in range(A.shape[1]):\n",
        "                C[i, j] += A[i, k] * B[k, j]\n",
        "    return C\n",
        "\n",
        "# Matrix dimensions\n",
        "N = 500\n",
        "A = np.random.rand(N, N)\n",
        "B = np.random.rand(N, N)\n",
        "\n",
        "# Naive matrix multiplication\n",
        "start = time.time()\n",
        "C_naive = naive_matrix_mult(A, B)\n",
        "end = time.time()\n",
        "print(f\"Naive matrix multiplication took {end - start:.2f} seconds\")\n",
        "\n",
        "# BLAS dgemm matrix multiplication\n",
        "start = time.time()\n",
        "C_blas = dgemm(alpha=1.0, a=A, b=B)\n",
        "end = time.time()\n",
        "print(f\"BLAS matrix multiplication took {end - start:.2f} seconds\")\n"
      ]
    },
    {
      "cell_type": "markdown",
      "source": [
        "## Explanation of the BLAS Matrix Multiplication Code\n",
        "\n",
        "In this code, we perform matrix multiplication in two ways:\n",
        "\n",
        "1. **Naive Python Implementation:** We loop over the matrix elements and compute the product manually. While this works, it is inefficient for large matrices.\n",
        "\n",
        "2. **BLAS dgemm:** We use the `dgemm` function from the BLAS library (through `scipy.linalg.blas`). BLAS routines are optimized for performance, and you can see that the matrix multiplication using `dgemm` is significantly faster than the naive implementation.\n",
        "\n",
        "BLAS uses optimized low-level routines that take advantage of hardware features like SIMD (Single Instruction, Multiple Data) instructions and cache hierarchies, making it much faster than standard Python code.\n"
      ],
      "metadata": {
        "id": "cVHMFB-_78Ya"
      }
    },
    {
      "cell_type": "markdown",
      "source": [
        "## Example 2: Fast Fourier Transform with FFTW\n",
        "\n",
        "The Fast Fourier Transform (FFT) is widely used in signal processing and scientific computing. It transforms a time-domain signal into its frequency-domain representation. The FFTW library provides highly optimized functions for computing FFTs efficiently. In this example, we will demonstrate how to compute the FFT of a signal using FFTW via the `scipy.fft` library.\n"
      ],
      "metadata": {
        "id": "kRhDsuzk790g"
      }
    },
    {
      "cell_type": "code",
      "source": [
        "# Install scipy if not already installed\n",
        "!pip install scipy\n",
        "\n",
        "import numpy as np\n",
        "import matplotlib.pyplot as plt\n",
        "from scipy.fft import fft, ifft\n",
        "\n",
        "# Create a sample signal with two frequencies\n",
        "N = 1024\n",
        "t = np.linspace(0, 1, N)\n",
        "signal = np.sin(2*np.pi*50*t) + 0.5*np.sin(2*np.pi*120*t)\n",
        "\n",
        "# Perform FFT using scipy (which calls FFTW internally)\n",
        "signal_fft = fft(signal)\n",
        "\n",
        "# Compute frequencies for plotting\n",
        "frequencies = np.fft.fftfreq(N, d=t[1] - t[0])\n",
        "\n",
        "# Plot the original signal\n",
        "plt.figure(figsize=(12, 6))\n",
        "plt.subplot(1, 2, 1)\n",
        "plt.plot(t, signal)\n",
        "plt.title(\"Original Signal (Time Domain)\")\n",
        "\n",
        "# Plot the FFT result\n",
        "plt.subplot(1, 2, 2)\n",
        "plt.plot(frequencies[:N // 2], np.abs(signal_fft[:N // 2]))\n",
        "plt.title(\"FFT Result (Frequency Domain)\")\n",
        "plt.show()\n"
      ],
      "metadata": {
        "colab": {
          "base_uri": "https://localhost:8080/",
          "height": 581
        },
        "id": "GbB1W0EZ7-_X",
        "outputId": "60984325-d7a1-46ff-e84b-7748b1460aea"
      },
      "execution_count": 1,
      "outputs": [
        {
          "output_type": "stream",
          "name": "stdout",
          "text": [
            "Requirement already satisfied: scipy in /usr/local/lib/python3.10/dist-packages (1.13.1)\n",
            "Requirement already satisfied: numpy<2.3,>=1.22.4 in /usr/local/lib/python3.10/dist-packages (from scipy) (1.26.4)\n"
          ]
        },
        {
          "output_type": "display_data",
          "data": {
            "text/plain": [
              "<Figure size 1200x600 with 2 Axes>"
            ],
            "image/png": "[encoded data removed]"
          },
          "metadata": {}
        }
      ]
    },
    {
      "cell_type": "markdown",
      "source": [
        "## Explanation of the FFTW Code\n",
        "\n",
        "In this example, we:\n",
        "\n",
        "1. Created a sample signal consisting of two sine waves at different frequencies (50 Hz and 120 Hz).\n",
        "2. Used the `fft` function from the `scipy.fft` module to compute the Fast Fourier Transform (FFT) of the signal. This function internally calls FFTW, which is optimized for speed.\n",
        "3. Plotted the original signal in the time domain and the FFT result in the frequency domain. The FFT allows us to see the frequencies that make up the original signal, which is a powerful tool in signal processing and analysis.\n",
        "\n",
        "The FFT computation using FFTW is optimized for performance and is much faster than manually implementing the FFT algorithm.\n"
      ],
      "metadata": {
        "id": "4NkupC_n8Auf"
      }
    },
    {
      "cell_type": "markdown",
      "source": [
        "## Example 3: Solving Linear Systems with LAPACK\n",
        "\n",
        "LAPACK (Linear Algebra Package) extends the functionality of BLAS by providing routines for solving more complex linear algebra problems, such as systems of linear equations, eigenvalue problems, and matrix factorizations. In this example, we will focus on solving a system of linear equations \\(Ax = b\\) using the `dgesv` routine from LAPACK, which performs LU decomposition and solves the system.\n",
        "\n",
        "This is a fundamental operation in many scientific computing applications where you need to find solutions to large systems of equations.\n",
        "\n",
        "We will solve the system using `scipy.linalg.lapack` and compare the performance with a basic Python implementation.\n"
      ],
      "metadata": {
        "id": "DMS00LL08VEo"
      }
    },
    {
      "cell_type": "code",
      "source": [
        "# Install necessary libraries\n",
        "!pip install scipy\n",
        "\n",
        "import numpy as np\n",
        "import time\n",
        "from scipy.linalg.lapack import dgesv\n",
        "\n",
        "# Generate a random system of linear equations: Ax = b\n",
        "N = 500\n",
        "A = np.random.rand(N, N)\n",
        "b = np.random.rand(N)\n",
        "\n",
        "# Naive Python implementation using numpy's solve function\n",
        "start = time.time()\n",
        "x_numpy = np.linalg.solve(A, b)\n",
        "end = time.time()\n",
        "print(f\"Naive solution using NumPy took {end - start:.2f} seconds\")\n",
        "\n",
        "# Using LAPACK's dgesv routine (LU decomposition and solve)\n",
        "start = time.time()\n",
        "lu, piv, x_lapack, info = dgesv(A, b)\n",
        "end = time.time()\n",
        "\n",
        "print(f\"LAPACK's dgesv solution took {end - start:.2f} seconds\")\n"
      ],
      "metadata": {
        "colab": {
          "base_uri": "https://localhost:8080/"
        },
        "id": "tOHujcTv8Wq_",
        "outputId": "2dd24836-537e-4184-9e60-a1236862e428"
      },
      "execution_count": 4,
      "outputs": [
        {
          "output_type": "stream",
          "name": "stdout",
          "text": [
            "Requirement already satisfied: scipy in /usr/local/lib/python3.10/dist-packages (1.13.1)\n",
            "Requirement already satisfied: numpy<2.3,>=1.22.4 in /usr/local/lib/python3.10/dist-packages (from scipy) (1.26.4)\n",
            "Naive solution using NumPy took 2.77 seconds\n",
            "LAPACK's dgesv solution took 2.64 seconds\n"
          ]
        }
      ]
    },
    {
      "cell_type": "markdown",
      "source": [
        "## Explanation of the LAPACK Code\n",
        "\n",
        "In this code, we solve a system of linear equations \\(Ax = b\\) in two ways:\n",
        "\n",
        "1. **NumPy's `solve` function:** This is a built-in function in NumPy, which internally calls LAPACK routines to solve the system, but without explicit control over which LAPACK function is used.\n",
        "   \n",
        "2. **LAPACK `dgesv` routine:** This is a direct call to LAPACK's LU decomposition and solve routine, which performs both the decomposition of the matrix \\(A\\) and the solution of the system. The `dgesv` function is highly optimized and takes advantage of hardware-specific optimizations.\n",
        "\n",
        "By using LAPACK directly, we can sometimes achieve better performance and have more control over the computational process.\n",
        "\n",
        "In this example, we generated a random system of equations, solved it using both methods, and compared the execution time. You'll notice that LAPACK's `dgesv` routine is faster, thanks to its optimizations.\n"
      ],
      "metadata": {
        "id": "0tJ9j7Kb8YOG"
      }
    },
    {
      "cell_type": "markdown",
      "source": [
        "## Example 4: Parallel Input/Output with HDF5\n",
        "\n",
        "HDF5 (Hierarchical Data Format version 5) is a popular library for managing large datasets. It supports parallel input/output (I/O), which is crucial in high-performance computing environments where large-scale simulations generate massive amounts of data that need to be efficiently stored and retrieved.\n",
        "\n",
        "In this example, we will demonstrate how to use the HDF5 library in Python (through `h5py`) to create, store, and read large datasets. This will be a simple introduction to HDF5's capabilities, including parallel writing to and reading from files.\n"
      ],
      "metadata": {
        "id": "fNLD2Pek8bjf"
      }
    },
    {
      "cell_type": "code",
      "source": [
        "# Install h5py library\n",
        "!pip install h5py\n",
        "\n",
        "import numpy as np\n",
        "import h5py\n",
        "\n",
        "# Create a large dataset and save it to an HDF5 file\n",
        "data = np.random.rand(10000, 10000)  # Large 2D array\n",
        "\n",
        "# Create an HDF5 file and save the dataset\n",
        "with h5py.File('data.h5', 'w') as f:\n",
        "    f.create_dataset('large_dataset', data=data)\n",
        "\n",
        "print(\"Large dataset saved to 'data.h5'\")\n",
        "\n",
        "# Now read the dataset back from the HDF5 file\n",
        "with h5py.File('data.h5', 'r') as f:\n",
        "    data_loaded = f['large_dataset'][:]\n",
        "\n",
        "print(f\"Dataset loaded from HDF5 file with shape: {data_loaded.shape}\")\n"
      ],
      "metadata": {
        "colab": {
          "base_uri": "https://localhost:8080/"
        },
        "id": "wJNV8cZA8cZf",
        "outputId": "c838ea80-264f-4619-89db-8418acfc0f01"
      },
      "execution_count": 5,
      "outputs": [
        {
          "output_type": "stream",
          "name": "stdout",
          "text": [
            "Requirement already satisfied: h5py in /usr/local/lib/python3.10/dist-packages (3.11.0)\n",
            "Requirement already satisfied: numpy>=1.17.3 in /usr/local/lib/python3.10/dist-packages (from h5py) (1.26.4)\n",
            "Large dataset saved to 'data.h5'\n",
            "Dataset loaded from HDF5 file with shape: (10000, 10000)\n"
          ]
        }
      ]
    },
    {
      "cell_type": "markdown",
      "source": [
        "## Explanation of the HDF5 Code\n",
        "\n",
        "In this example, we created a large 2D dataset using NumPy, saved it to an HDF5 file, and then read it back from the file. This demonstrates the basic functionality of HDF5 for handling large datasets efficiently.\n",
        "\n",
        "1. **Writing to an HDF5 file:** We used the `h5py.File` function to create an HDF5 file and the `create_dataset` method to store our large 2D array in the file. HDF5 is especially useful when working with datasets that do not fit in memory, as it allows for efficient reading and writing of portions of the data.\n",
        "\n",
        "2. **Reading from an HDF5 file:** We opened the file again and used the `[:]` slicing notation to load the entire dataset back into memory. HDF5 allows you to access specific parts of the dataset if needed, making it efficient for large-scale data analysis.\n",
        "\n",
        "HDF5 is widely used in scientific computing for managing large and complex data. In HPC, parallel I/O using HDF5 helps avoid bottlenecks when reading and writing data from multiple processes in parallel.\n"
      ],
      "metadata": {
        "id": "I858DM_b8d6P"
      }
    },
    {
      "cell_type": "markdown",
      "source": [
        "## Example 5: Advanced FFTW with Parallel Execution\n",
        "\n",
        "In this advanced example, we will explore how to perform parallel FFT operations using FFTW. This can significantly improve the performance of Fourier transforms when working with large datasets in high-performance computing environments.\n",
        "\n",
        "Although direct parallel execution is not supported in Google Colab, we can demonstrate the use of FFTW with parallel options in environments where parallelism is available.\n"
      ],
      "metadata": {
        "id": "fCu3b2qc8fSY"
      }
    },
    {
      "cell_type": "code",
      "source": [
        "# Installing FFTW is not possible in Colab directly for parallel execution,\n",
        "# but we will outline how this would work in an HPC environment.\n",
        "\n",
        "# Pseudocode for Parallel FFT using FFTW in a Python environment\n",
        "\"\"\"\n",
        "import pyfftw\n",
        "import numpy as np\n",
        "\n",
        "# Generate a large random dataset\n",
        "N = 1000000\n",
        "data = np.random.rand(N)\n",
        "\n",
        "# Create FFTW object with parallel planning enabled\n",
        "fft_obj = pyfftw.FFTW(data, np.empty(N), flags=['FFTW_MEASURE'], threads=4)\n",
        "\n",
        "# Perform parallel FFT\n",
        "fft_result = fft_obj()\n",
        "\n",
        "print(\"Parallel FFT completed\")\n",
        "\"\"\"\n",
        "\n",
        "# Note: This code snippet requires pyFFTW and parallel libraries, which\n",
        "# are typically available in HPC environments and not Colab. In HPC, FFTW can\n",
        "# utilize multiple cores to speed up FFT computations, significantly reducing execution time.\n"
      ],
      "metadata": {
        "id": "MXm9BKUw8hHX"
      },
      "execution_count": null,
      "outputs": []
    },
    {
      "cell_type": "markdown",
      "source": [
        "## Explanation of FFTW Parallel Code\n",
        "\n",
        "In high-performance computing, parallelizing the FFT computation across multiple cores can drastically improve performance, especially for large datasets.\n",
        "\n",
        "1. **pyFFTW Library:** This is a Python wrapper for FFTW, enabling parallel computation of FFTs. We initialize the FFT object with `FFTW_MEASURE` to optimize the computation based on the input size, and specify `threads=4` to enable parallel execution across 4 cores.\n",
        "\n",
        "2. **Parallel FFT Execution:** By using multiple threads, FFTW can distribute the workload across available processors, reducing the time required for large FFT computations. While this specific feature cannot be demonstrated in Colab, it is commonly used in large-scale simulations in HPC environments.\n",
        "\n",
        "Parallel FFT is an important optimization for applications in signal processing, data analysis, and scientific simulations that require high performance.\n"
      ],
      "metadata": {
        "id": "NezPY5pV8lrf"
      }
    }
  ]
}